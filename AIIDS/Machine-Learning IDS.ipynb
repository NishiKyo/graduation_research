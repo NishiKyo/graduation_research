{
 "cells": [
  {
   "cell_type": "code",
   "execution_count": 240,
   "metadata": {},
   "outputs": [
    {
     "name": "stdout",
     "output_type": "stream",
     "text": [
      "Populating the interactive namespace from numpy and matplotlib\n"
     ]
    }
   ],
   "source": [
    "%pylab inline --no-import-all\n",
    "import numpy as np\n",
    "import matplotlib.pyplot as plt\n",
    "import pandas as pd\n",
    "import time\n",
    "from sklearn import datasets\n",
    "from sklearn import linear_model, metrics, preprocessing, cross_validation\n",
    "from sklearn.linear_model import SGDClassifier\n",
    "from sklearn.cross_validation import train_test_split\n",
    "from sklearn.linear_model import Perceptron\n",
    "from sklearn.metrics import accuracy_score\n",
    "from sklearn.neighbors import KNeighborsClassifier\n",
    "from sklearn.linear_model import SGDClassifier\n",
    "from sklearn.svm import SVC\n",
    "\n",
    "\n",
    "from matplotlib.colors import ListedColormap\n",
    "import warnings\n",
    "\n",
    "\n",
    "kdd = pd.read_csv('/home/AIIDS/kddcup99/kddcup.data_10_percent', header=None)"
   ]
  },
  {
   "cell_type": "code",
   "execution_count": 162,
   "metadata": {
    "collapsed": true
   },
   "outputs": [],
   "source": [
    "#df_normal.to_csv(\"kdd_normal.csv\")\n",
    "#kdd.to_csv(\"kdd.csv\")"
   ]
  },
  {
   "cell_type": "code",
   "execution_count": null,
   "metadata": {},
   "outputs": [],
   "source": []
  },
  {
   "cell_type": "code",
   "execution_count": 199,
   "metadata": {},
   "outputs": [
    {
     "data": {
      "text/plain": [
       "StandardScaler(copy=True, with_mean=True, with_std=True)"
      ]
     },
     "execution_count": 199,
     "metadata": {},
     "output_type": "execute_result"
    }
   ],
   "source": [
    "sc"
   ]
  },
  {
   "cell_type": "code",
   "execution_count": 198,
   "metadata": {},
   "outputs": [
    {
     "data": {
      "text/plain": [
       "0          0\n",
       "5          0\n",
       "11         0\n",
       "14         0\n",
       "15         0\n",
       "16         0\n",
       "17         0\n",
       "18         0\n",
       "30         0\n",
       "31       255\n",
       "36         0\n",
       "41    smurf.\n",
       "Name: 271155, dtype: object"
      ]
     },
     "execution_count": 198,
     "metadata": {},
     "output_type": "execute_result"
    }
   ],
   "source": [
    "df_normal.iloc[271155]"
   ]
  },
  {
   "cell_type": "code",
   "execution_count": 202,
   "metadata": {},
   "outputs": [
    {
     "data": {
      "text/plain": [
       "array([[-0.07938513,  1.27097877,  2.361757  ,  0.        , -0.02816628,\n",
       "        -0.0142292 , -0.01909202, -0.02465069, -0.19969686, -3.37043293,\n",
       "        -0.15515322],\n",
       "       [-0.07938513, -0.00731928,  2.361757  ,  0.        , -0.02816628,\n",
       "        -0.0142292 , -0.01909202, -0.02465069, -0.19969686, -3.21900005,\n",
       "        -0.15515322],\n",
       "       [-0.07938513,  0.21182489,  2.361757  ,  0.        , -0.02816628,\n",
       "        -0.0142292 , -0.01909202, -0.02465069, -0.19969686, -3.06756718,\n",
       "        -0.15515322]])"
      ]
     },
     "execution_count": 202,
     "metadata": {},
     "output_type": "execute_result"
    }
   ],
   "source": [
    "sc.transform(X.iloc[0:3])"
   ]
  },
  {
   "cell_type": "code",
   "execution_count": 201,
   "metadata": {},
   "outputs": [
    {
     "data": {
      "text/html": [
       "<div>\n",
       "<style>\n",
       "    .dataframe thead tr:only-child th {\n",
       "        text-align: right;\n",
       "    }\n",
       "\n",
       "    .dataframe thead th {\n",
       "        text-align: left;\n",
       "    }\n",
       "\n",
       "    .dataframe tbody tr th {\n",
       "        vertical-align: top;\n",
       "    }\n",
       "</style>\n",
       "<table border=\"1\" class=\"dataframe\">\n",
       "  <thead>\n",
       "    <tr style=\"text-align: right;\">\n",
       "      <th></th>\n",
       "      <th>0</th>\n",
       "      <th>5</th>\n",
       "      <th>11</th>\n",
       "      <th>14</th>\n",
       "      <th>15</th>\n",
       "      <th>16</th>\n",
       "      <th>17</th>\n",
       "      <th>18</th>\n",
       "      <th>30</th>\n",
       "      <th>31</th>\n",
       "      <th>36</th>\n",
       "    </tr>\n",
       "  </thead>\n",
       "  <tbody>\n",
       "    <tr>\n",
       "      <th>0</th>\n",
       "      <td>0</td>\n",
       "      <td>5450</td>\n",
       "      <td>1</td>\n",
       "      <td>0</td>\n",
       "      <td>0</td>\n",
       "      <td>0</td>\n",
       "      <td>0</td>\n",
       "      <td>0</td>\n",
       "      <td>0.0</td>\n",
       "      <td>9</td>\n",
       "      <td>0.0</td>\n",
       "    </tr>\n",
       "    <tr>\n",
       "      <th>1</th>\n",
       "      <td>0</td>\n",
       "      <td>486</td>\n",
       "      <td>1</td>\n",
       "      <td>0</td>\n",
       "      <td>0</td>\n",
       "      <td>0</td>\n",
       "      <td>0</td>\n",
       "      <td>0</td>\n",
       "      <td>0.0</td>\n",
       "      <td>19</td>\n",
       "      <td>0.0</td>\n",
       "    </tr>\n",
       "    <tr>\n",
       "      <th>2</th>\n",
       "      <td>0</td>\n",
       "      <td>1337</td>\n",
       "      <td>1</td>\n",
       "      <td>0</td>\n",
       "      <td>0</td>\n",
       "      <td>0</td>\n",
       "      <td>0</td>\n",
       "      <td>0</td>\n",
       "      <td>0.0</td>\n",
       "      <td>29</td>\n",
       "      <td>0.0</td>\n",
       "    </tr>\n",
       "  </tbody>\n",
       "</table>\n",
       "</div>"
      ],
      "text/plain": [
       "   0     5   11  14  15  16  17  18   30  31   36\n",
       "0   0  5450   1   0   0   0   0   0  0.0   9  0.0\n",
       "1   0   486   1   0   0   0   0   0  0.0  19  0.0\n",
       "2   0  1337   1   0   0   0   0   0  0.0  29  0.0"
      ]
     },
     "execution_count": 201,
     "metadata": {},
     "output_type": "execute_result"
    }
   ],
   "source": [
    "X.iloc[0:3]"
   ]
  },
  {
   "cell_type": "code",
   "execution_count": 194,
   "metadata": {},
   "outputs": [
    {
     "data": {
      "text/plain": [
       "array([[  0.00000000e+00,   5.45000000e+03,   1.00000000e+00,\n",
       "          0.00000000e+00,   0.00000000e+00,   0.00000000e+00,\n",
       "          0.00000000e+00,   0.00000000e+00,   0.00000000e+00,\n",
       "         -2.46000000e+02,   0.00000000e+00],\n",
       "       [  0.00000000e+00,   4.86000000e+02,   1.00000000e+00,\n",
       "          0.00000000e+00,   0.00000000e+00,   0.00000000e+00,\n",
       "          0.00000000e+00,   0.00000000e+00,   0.00000000e+00,\n",
       "         -2.36000000e+02,   0.00000000e+00],\n",
       "       [  0.00000000e+00,   1.33700000e+03,   1.00000000e+00,\n",
       "          0.00000000e+00,   0.00000000e+00,   0.00000000e+00,\n",
       "          0.00000000e+00,   0.00000000e+00,   0.00000000e+00,\n",
       "         -2.26000000e+02,   0.00000000e+00]])"
      ]
     },
     "execution_count": 194,
     "metadata": {},
     "output_type": "execute_result"
    }
   ],
   "source": [
    "mms.transform(X.iloc[0:3])"
   ]
  },
  {
   "cell_type": "code",
   "execution_count": 196,
   "metadata": {},
   "outputs": [
    {
     "name": "stdout",
     "output_type": "stream",
     "text": [
      "[[ 0.          1.          0.          0.          0.          0.          0.\n",
      "   0.          0.          0.          0.        ]\n",
      " [ 0.          0.          0.          0.          0.          0.          0.\n",
      "   0.          0.          0.5         0.        ]\n",
      " [ 0.          0.17143433  0.          0.          0.          0.          0.\n",
      "   0.          0.          1.          0.        ]]\n"
     ]
    }
   ],
   "source": [
    "print(mms.transform(X.iloc[0:3]))\n"
   ]
  },
  {
   "cell_type": "code",
   "execution_count": 197,
   "metadata": {},
   "outputs": [
    {
     "name": "stdout",
     "output_type": "stream",
     "text": [
      "[[-0.07950785 -0.13214365  6.15448255  0.         -0.07427329 -0.26427982\n",
      "  -0.61931072 -1.02525835 -1.65454845 -3.55776195 -3.15284043]\n",
      " [-0.07950785 -0.13247283  6.15448255  0.         -0.07427329 -0.26427982\n",
      "  -0.61931072 -1.02525835 -1.65454845 -3.55546876 -3.15284043]\n",
      " [-0.07950785 -0.13241639  6.15448255  0.         -0.07427329 -0.26427982\n",
      "  -0.61931072 -1.02525835 -1.65454845 -3.55317557 -3.15284043]]\n"
     ]
    }
   ],
   "source": [
    "print(sc.transform(sc.transform(X.iloc[0:3])))"
   ]
  },
  {
   "cell_type": "code",
   "execution_count": null,
   "metadata": {
    "collapsed": true
   },
   "outputs": [],
   "source": []
  },
  {
   "cell_type": "markdown",
   "metadata": {},
   "source": [
    "df_normalの特徴名(行列は０からスタート、特徴番号参照の際は添字＋１)\n",
    "\n",
    "0: duration\n",
    "5: dst_bytes\n",
    "11: logged_in\n",
    "14: su_attempted\n",
    "15: num_root\n",
    "16: num_file_creations\n",
    "17: num_shells\n",
    "18: num_access_files\n",
    "30: srv_diff_host_rate\n",
    "31: dst_host_count\n",
    "36: dst_host_srv_diff_host_rate\n",
    "41: label"
   ]
  },
  {
   "cell_type": "code",
   "execution_count": 243,
   "metadata": {
    "collapsed": true
   },
   "outputs": [],
   "source": [
    "\"\"\"\n",
    "学習用データセットの読み込み\n",
    "\"\"\"\n",
    "df_normal = kdd[[0, 5, 11, 14, 15, 16, 17, 18, 30, 31, 36, 41]]\n",
    "kdtoc = df_normal[df_normal.iloc[: , 11] != 'normal.']\n",
    "df_normal.to_csv(\"kdd_normal.csv\")\n",
    "\n",
    "#df_normal.columns = [u'dst_bytes', u'logged_in', u'su_attempted', u'num_root', u'num_file_creations', \n",
    "#                   u'num_shells', u'num_access_files', u'srv_diff_host_rate', u'dst_host_count', \n",
    "#                 u'dst_host_srv_diff_host_rate', u'label']\n",
    "\n",
    "z = df_normal.iloc[:, 11].values\n",
    "z = np.where(z == 'normal.', 0, 1)#normal = 0, normal以外 = 1\n",
    "\n",
    "X = df_normal.iloc[:, [0,1,2,3,4,5,6,7,8,9,10] ]\n",
    "y = df_normal.iloc[:, 11].values\n",
    "y = np.where(y == 'normal.', 0, 1)  #クラスラベル"
   ]
  },
  {
   "cell_type": "code",
   "execution_count": 245,
   "metadata": {},
   "outputs": [
    {
     "name": "stderr",
     "output_type": "stream",
     "text": [
      "/root/.pyenv/versions/anaconda3-4.4.0/lib/python3.6/site-packages/ipykernel_launcher.py:11: FutureWarning: elementwise comparison failed; returning scalar instead, but in the future will perform elementwise comparison\n",
      "  # This is added back by InteractiveShellApp.init_path()\n"
     ]
    }
   ],
   "source": [
    "\"\"\"\n",
    "フルデータ（未学習ラベルあり）の読み込み\n",
    "フルデータの1割とフルデータ全てでの検知を行う\n",
    "\"\"\"\n",
    "\n",
    "kdd_full = pd.read_csv('/home/AIIDS/kddcup99/kddcup.data', header=None)\n",
    "df_normal_full = kdd_full[[0, 5, 11, 14, 15, 16, 17, 18, 30, 31, 36, 41]]\n",
    "kdtoc = df_normal_full[df_normal_full.iloc[: , 11] != 'normal.']\n",
    "\n",
    "z_full = df_normal_full.iloc[:, 11].values\n",
    "z_full = np.where(z == 'normal.', 0, 1)#normal = 0, normal以外 = 1\n",
    "\n",
    "X_full = df_normal_full.iloc[:, [0,1,2,3,4,5,6,7,8,9,10] ]\n",
    "y_full = df_normal_full.iloc[:, 11].values\n",
    "y_full = np.where(y_full == 'normal.', 0, 1)  #クラスラベル"
   ]
  },
  {
   "cell_type": "code",
   "execution_count": 246,
   "metadata": {
    "collapsed": true
   },
   "outputs": [],
   "source": [
    "\"\"\"\n",
    "フルデータから1割を抽出\n",
    "\"\"\"\n",
    "X_full_train, X_full_test, y_full_train, y_full_test = train_test_split(\n",
    "X, y, test_size = 0.1, random_state = 0)\n",
    "\n",
    "X_full_test = X_full_test.reset_index(drop=True)"
   ]
  },
  {
   "cell_type": "code",
   "execution_count": 247,
   "metadata": {},
   "outputs": [
    {
     "name": "stdout",
     "output_type": "stream",
     "text": [
      "経過時間：0.09102058410644531\n",
      "誤分類数： 12897個\n",
      "正解率    : 0.962705\n",
      "誤検知率 : 0.231604\n"
     ]
    }
   ],
   "source": [
    "#SGD 標準化\n",
    "\n",
    "#トレーニングとテストに分割\n",
    "X_train, X_test, y_train, y_test = train_test_split(\n",
    "X, y, test_size = 0.7, random_state = 0)\n",
    "\n",
    "X_test = X_test.reset_index(drop=True)\n",
    "\n",
    "\n",
    "#標準化\n",
    "from sklearn.preprocessing import StandardScaler\n",
    "sc=StandardScaler()\n",
    "sc.fit(X_train)\n",
    "X_train_std = sc.transform(X_train)\n",
    "X_test_std = sc.transform(X_test)\n",
    "\n",
    "\n",
    "#SGD_std\n",
    "start = time.time() #処理開始時間\n",
    "\n",
    "ppnstd = SGDClassifier(eta0 = 10, loss = 'perceptron')\n",
    "ppnstd.fit(X_train_std, y_train)\n",
    "\n",
    "y_pred = ppnstd.predict(X_test_std)\n",
    "#モデルによるラベル分類\n",
    "#y_test = 正解のラベル\n",
    "\n",
    "# 経過時間を表示\n",
    "elapsed_time = time.time()-start\n",
    "print(f\"経過時間：{elapsed_time}\")\n",
    "\n",
    "miss_class = (y_test != y_pred).sum()\n",
    "accu_class = (accuracy_score(y_test, y_pred))\n",
    "\n",
    "print('誤分類数： %d個' % miss_class)\n",
    "print('正解率    : %f' % accu_class)\n",
    "\n",
    "\n",
    "#誤検知したやつを探す\n",
    "result = pd.DataFrame(y_pred, columns=['prediction'])\n",
    "result['correct'] = y_test\n",
    "result['accuracy'] = y_test == y_pred\n",
    "\n",
    "f_positives = result[result.iloc[:, 2] == False]\n",
    "f_positives = f_positives[f_positives.iloc[:, 0] == 1]#誤検知(false positives)\n",
    "\n",
    "f_negatives = result[result.iloc[:, 2] == False]\n",
    "f_negatives = f_negatives[f_negatives.iloc[:, 0] == 0]#誤検知(false negatives)\n",
    "\n",
    "per_fn = len(f_negatives) / miss_class\n",
    "print('誤検知率 : %f' % per_fn)"
   ]
  },
  {
   "cell_type": "code",
   "execution_count": null,
   "metadata": {},
   "outputs": [],
   "source": []
  },
  {
   "cell_type": "code",
   "execution_count": 248,
   "metadata": {},
   "outputs": [
    {
     "name": "stdout",
     "output_type": "stream",
     "text": [
      "False Negative:0.77\n",
      "False Positive  :3.0300000000000002\n",
      "Correct Percentage:96.2\n",
      "Correct:9620\n",
      "Time lapse ave　(ms):1.370295262336731\n"
     ]
    }
   ],
   "source": [
    "\"\"\"\n",
    "フルデータの1割での検知\n",
    "データセットは標準化を行なっている\n",
    "ランダムに予測する\n",
    "\"\"\"\n",
    "\n",
    "i=0\n",
    "fn=0\n",
    "fp=0\n",
    "correct=0\n",
    "alltime=0\n",
    "\n",
    "while i < 10000:\n",
    "    \n",
    "    #分類開始#\n",
    "    start = time.time() #処理開始時間\n",
    "    random = X_full_test.sample()\n",
    "    y_pred = ppnstd.predict(sc.transform(random))\n",
    "    y_correct = y_full_test[random.index]\n",
    "\n",
    "\n",
    "    if y_pred[0] == 0:\n",
    "            if y_pred[0] == y_correct:\n",
    "                correct+=1\n",
    "            else:\n",
    "                fn+=1\n",
    "    else:\n",
    "        if y_pred[0] == y_correct:\n",
    "            correct+=1\n",
    "        else:\n",
    "            fp+=1\n",
    "    #分類終了#    \n",
    "    elapsed_time = time.time()-start\n",
    "    alltime += elapsed_time\n",
    "    \n",
    "    i+=1\n",
    "\n",
    "SGD_std_ac = (correct/i) *100\n",
    "SGD_std_fp = (fp/i) *100\n",
    "SGD_std_fn = (fn/i) *100  \n",
    "SGD_std_time = (alltime/i) * 1000\n",
    "    \n",
    "print(f\"False Negative:{SGD_std_fn}\")\n",
    "print(f\"False Positive  :{SGD_std_fp}\")\n",
    "print(f\"Correct Percentage:{SGD_std_ac}\")\n",
    "print(f\"Correct:{correct}\")\n",
    "print(f\"Time lapse ave　(ms):{SGD_std_time}\")"
   ]
  },
  {
   "cell_type": "code",
   "execution_count": 251,
   "metadata": {},
   "outputs": [
    {
     "name": "stdout",
     "output_type": "stream",
     "text": [
      "経過時間：0.09372901916503906\n",
      "誤分類数： 20073個\n",
      "正解率    : 0.941955\n",
      "誤検知率 : 0.121905\n"
     ]
    }
   ],
   "source": [
    "#SGD　正規化\n",
    "\n",
    "#トレーニングとテストに分割\n",
    "X_train, X_test, y_train, y_test = train_test_split(\n",
    "X, y, test_size = 0.7, random_state = 0)\n",
    "\n",
    "X_test = X_test.reset_index(drop=True)\n",
    "\n",
    "#正規化(normalization)\n",
    "from sklearn.preprocessing import MinMaxScaler\n",
    "mms = MinMaxScaler()\n",
    "mms.fit(X_train)\n",
    "X_train_norm = mms.transform(X_train)\n",
    "X_test_norm = mms.transform(X_test)\n",
    "\n",
    "\n",
    "start = time.time()  #処理開始時間\n",
    "\n",
    "ppnnorm = SGDClassifier(eta0 = 10, loss = 'perceptron')\n",
    "ppnnorm.fit(X_train_norm, y_train)\n",
    "\n",
    "y_pred = ppnnorm.predict(X_test_norm)\n",
    "#モデルによるラベル分類\n",
    "#y_test = 正解のラベル\n",
    "\n",
    "# 経過時間を表示\n",
    "elapsed_time = time.time()-start\n",
    "print(f\"経過時間：{elapsed_time}\")\n",
    "\n",
    "miss_class = (y_test != y_pred).sum()\n",
    "accu_class = (accuracy_score(y_test, y_pred))\n",
    "\n",
    "print('誤分類数： %d個' % miss_class)\n",
    "print('正解率    : %f' % accu_class)\n",
    "\n",
    "#誤検知したやつを探す\n",
    "result = pd.DataFrame(y_pred, columns=['prediction'])\n",
    "result['correct'] = y_test\n",
    "result['accuracy'] = y_test == y_pred\n",
    "\n",
    "f_positives = result[result.iloc[:, 2] == False]\n",
    "f_positives = f_positives[f_positives.iloc[:, 0] == 1]#誤検知(false positives)\n",
    "\n",
    "f_negatives = result[result.iloc[:, 2] == False]\n",
    "f_negatives = f_negatives[f_negatives.iloc[:, 0] == 0]#誤検知(false negatives)\n",
    "\n",
    "per_fn = len(f_negatives) / miss_class\n",
    "print('誤検知率 : %f' % per_fn)"
   ]
  },
  {
   "cell_type": "code",
   "execution_count": 252,
   "metadata": {},
   "outputs": [
    {
     "name": "stdout",
     "output_type": "stream",
     "text": [
      "False Negative:80.75\n",
      "False Positive  :0.0\n",
      "Correct Percentage:19.25\n",
      "Correct:1925\n",
      "Time lapse ave　(ms):2.8944828510284424\n"
     ]
    }
   ],
   "source": [
    "\"\"\"SGD_norm\n",
    "フルデータの1割での検知\n",
    "データセットは標準化を行なっている\n",
    "ランダムに予測する\n",
    "\"\"\"\n",
    "\n",
    "i=0\n",
    "fn=0\n",
    "fp=0\n",
    "correct=0\n",
    "while i < 10000:\n",
    "    \n",
    "    #分類開始#\n",
    "    start = time.time() #処理開始時間\n",
    "    random = X_full_test.sample()\n",
    "    y_pred = ppnnorm.predict(mms.fit_transform(random))\n",
    "    y_correct = y_full_test[random.index]\n",
    "\n",
    "    if y_pred[0] == 0:\n",
    "            if y_pred[0] == y_correct:\n",
    "                correct+=1\n",
    "            else:\n",
    "                fn+=1\n",
    "    else:\n",
    "        if y_pred[0] == y_correct:\n",
    "            correct+=1\n",
    "        else:\n",
    "            fp+=1\n",
    "    #分類終了#    \n",
    "    elapsed_time = time.time()-start\n",
    "    alltime += elapsed_time\n",
    "            \n",
    "    i+=1\n",
    "\n",
    "SGD_norm_ac = (correct/i) *100\n",
    "SGD_norm_fp = (fp/i) *100\n",
    "SGD_norm_fn = (fn/i) *100  \n",
    "SGD_norm_time = (alltime/i) * 1000\n",
    "\n",
    "print(f\"False Negative:{SGD_norm_fn}\")\n",
    "print(f\"False Positive  :{SGD_norm_fp}\")\n",
    "print(f\"Correct Percentage:{SGD_norm_ac}\")\n",
    "print(f\"Correct:{correct}\")\n",
    "print(f\"Time lapse ave　(ms):{SGD_norm_time}\")"
   ]
  },
  {
   "cell_type": "code",
   "execution_count": null,
   "metadata": {
    "collapsed": true
   },
   "outputs": [],
   "source": []
  },
  {
   "cell_type": "code",
   "execution_count": null,
   "metadata": {
    "collapsed": true
   },
   "outputs": [],
   "source": []
  },
  {
   "cell_type": "code",
   "execution_count": null,
   "metadata": {
    "collapsed": true
   },
   "outputs": [],
   "source": []
  },
  {
   "cell_type": "code",
   "execution_count": null,
   "metadata": {
    "collapsed": true
   },
   "outputs": [],
   "source": []
  },
  {
   "cell_type": "code",
   "execution_count": null,
   "metadata": {
    "collapsed": true
   },
   "outputs": [],
   "source": []
  },
  {
   "cell_type": "code",
   "execution_count": null,
   "metadata": {
    "collapsed": true
   },
   "outputs": [],
   "source": []
  },
  {
   "cell_type": "code",
   "execution_count": null,
   "metadata": {
    "collapsed": true
   },
   "outputs": [],
   "source": []
  },
  {
   "cell_type": "code",
   "execution_count": 78,
   "metadata": {},
   "outputs": [
    {
     "name": "stdout",
     "output_type": "stream",
     "text": [
      "False Negative:0.0\n",
      "False Positive  :2.0\n",
      "Correct Percentage:98.0\n",
      "Correct:98\n"
     ]
    }
   ],
   "source": [
    "\"\"\"SGD_std\n",
    "フルデータの全てでの検知\n",
    "データセットは標準化を行なっている\n",
    "ランダムに予測する\n",
    "\"\"\"\n",
    "i=0\n",
    "fn=0\n",
    "fp=0\n",
    "correct=0\n",
    "while i < 100:\n",
    "    random = X_fulｌ.sample()\n",
    "    y_pred = ppnstd.predict(sc.transform(random))\n",
    "    y_correct = y_full[random.index]\n",
    "\n",
    "    if y_pred[0] == 0:\n",
    "            if y_pred[0] == y_correct:\n",
    "                correct+=1\n",
    "            else:\n",
    "                fn+=1\n",
    "    else:\n",
    "        if y_pred[0] == y_correct:\n",
    "            correct+=1\n",
    "        else:\n",
    "            fp+=1\n",
    "            \n",
    "    i+=1\n",
    "\n",
    "SGD_std_ac = (correct/i) *100\n",
    "SGD_std_fp = (fp/i) *100\n",
    "SGD_std_fn = (fn/i) *100  \n",
    "    \n",
    "print(f\"False Negative:{SGD_std_fn}\")\n",
    "print(f\"False Positive  :{SGD_std_fp}\")\n",
    "print(f\"Correct Percentage:{SGD_std_ac}\")\n",
    "print(f\"Correct:{correct}\")"
   ]
  },
  {
   "cell_type": "code",
   "execution_count": null,
   "metadata": {
    "collapsed": true
   },
   "outputs": [],
   "source": []
  },
  {
   "cell_type": "code",
   "execution_count": null,
   "metadata": {
    "collapsed": true
   },
   "outputs": [],
   "source": []
  },
  {
   "cell_type": "code",
   "execution_count": null,
   "metadata": {
    "collapsed": true
   },
   "outputs": [],
   "source": []
  },
  {
   "cell_type": "code",
   "execution_count": 253,
   "metadata": {},
   "outputs": [
    {
     "name": "stdout",
     "output_type": "stream",
     "text": [
      "経過時間：40.68462657928467\n",
      "誤分類数： 6761個\n",
      "正解率    : 0.986176\n",
      "誤検知率 : 0.329093\n"
     ]
    }
   ],
   "source": [
    "#k近傍法, 標準化\n",
    "\n",
    "X_train, X_test, y_train, y_test = train_test_split(\n",
    "X, y, test_size = 0.99, random_state = 0)\n",
    "\n",
    "X_test = X_test.reset_index(drop=True)\n",
    "\n",
    "\n",
    "#標準化\n",
    "from sklearn.preprocessing import StandardScaler\n",
    "sc=StandardScaler()\n",
    "sc.fit(X_train)\n",
    "X_train_std = sc.transform(X_train)\n",
    "X_test_std = sc.transform(X_test)\n",
    "\n",
    "#knn_std\n",
    "start = time.time() #処理開始時間\n",
    "\n",
    "knnstd = KNeighborsClassifier(n_neighbors=5, p=2)\n",
    "knnstd.fit(X_train_std, y_train)\n",
    "\n",
    "y_pred = knnstd.predict(X_test_std)\n",
    "#y_pred = モデルによるラベル分類\n",
    "#y_test = 正解のラベル\n",
    "\n",
    "# 経過時間を表示\n",
    "elapsed_time = time.time()-start\n",
    "print(f\"経過時間：{elapsed_time}\")\n",
    "\n",
    "miss_class = (y_test != y_pred).sum()\n",
    "accu_class = (accuracy_score(y_test, y_pred))\n",
    "\n",
    "print('誤分類数： %d個' % miss_class)\n",
    "print('正解率    : %f' % accu_class)\n",
    "\n",
    "#誤検知したやつを探す\n",
    "result = pd.DataFrame(y_pred, columns=['prediction'])\n",
    "result['correct'] = y_test\n",
    "result['accuracy'] = y_test == y_pred\n",
    "\n",
    "f_positives = result[result.iloc[:, 2] == False]\n",
    "f_positives = f_positives[f_positives.iloc[:, 0] == 1]#誤検知(false positives)\n",
    "\n",
    "f_negatives = result[result.iloc[:, 2] == False]\n",
    "f_negatives = f_negatives[f_negatives.iloc[:, 0] == 0]#誤検知(false negatives)\n",
    "\n",
    "per_fn = len(f_negatives) / miss_class\n",
    "print('誤検知率 : %f' % per_fn)"
   ]
  },
  {
   "cell_type": "code",
   "execution_count": 254,
   "metadata": {},
   "outputs": [
    {
     "name": "stdout",
     "output_type": "stream",
     "text": [
      "False Negative:0.5\n",
      "False Positive  :0.9299999999999999\n",
      "Correct Percentage:98.57000000000001\n",
      "Correct:9857\n",
      "Time lapse ave　(ms):4.702603030204774\n"
     ]
    }
   ],
   "source": [
    "\"\"\"KNN_std\n",
    "フルデータの1割での検知\n",
    "データセットは標準化を行なっている\n",
    "ランダムに予測する\n",
    "\"\"\"\n",
    "\n",
    "i=0\n",
    "fn=0\n",
    "fp=0\n",
    "correct=0\n",
    "while i < 10000:\n",
    "    \n",
    "    #分類開始#\n",
    "    start = time.time() #処理開始時間\n",
    "    random = X_full_test.sample()\n",
    "    y_pred = knnstd.predict(sc.transform(random))\n",
    "    y_correct = y_full_test[random.index]\n",
    "\n",
    "    if y_pred[0] == 0:\n",
    "            if y_pred[0] == y_correct:\n",
    "                correct+=1\n",
    "            else:\n",
    "                fn+=1\n",
    "    else:\n",
    "        if y_pred[0] == y_correct:\n",
    "            correct+=1\n",
    "        else:\n",
    "            fp+=1\n",
    "    #分類終了#    \n",
    "    elapsed_time = time.time()-start\n",
    "    alltime += elapsed_time\n",
    "            \n",
    "    i+=1\n",
    "\n",
    "KNN_std_ac = (correct/i) *100\n",
    "KNN_std_fp = (fp/i) *100\n",
    "KNN_std_fn = (fn/i) *100   \n",
    "KNN_std_time = (alltime/i) * 1000\n",
    "\n",
    "print(f\"False Negative:{KNN_std_fn}\")\n",
    "print(f\"False Positive  :{KNN_std_fp}\")\n",
    "print(f\"Correct Percentage:{KNN_std_ac}\")\n",
    "print(f\"Correct:{correct}\")\n",
    "print(f\"Time lapse ave　(ms):{KNN_std_time}\")"
   ]
  },
  {
   "cell_type": "code",
   "execution_count": null,
   "metadata": {
    "collapsed": true
   },
   "outputs": [],
   "source": []
  },
  {
   "cell_type": "code",
   "execution_count": 255,
   "metadata": {},
   "outputs": [
    {
     "name": "stdout",
     "output_type": "stream",
     "text": [
      "経過時間：34.85397815704346\n",
      "誤分類数： 6801個\n",
      "正解率    : 0.986094\n",
      "誤検知率 : 0.404058\n"
     ]
    }
   ],
   "source": [
    "#k近傍法 正規化\n",
    "\n",
    "X_train, X_test, y_train, y_test = train_test_split(\n",
    "X, y, test_size = 0.99, random_state = 0)\n",
    "\n",
    "X_test = X_test.reset_index(drop=True)\n",
    "\n",
    "\n",
    "#正規化(normalization)\n",
    "from sklearn.preprocessing import MinMaxScaler\n",
    "mms = MinMaxScaler()\n",
    "X_train_norm = mms.fit_transform(X_train)\n",
    "X_test_norm = mms.transform(X_test)\n",
    "\n",
    "#K近傍法\n",
    "start = time.time() #処理開始時間\n",
    "\n",
    "knnnorm = KNeighborsClassifier(n_neighbors=5, p=2)\n",
    "knnnorm.fit(X_train_norm, y_train)\n",
    "\n",
    "y_pred = knnnorm.predict(X_test_norm)\n",
    "#y_pred = モデルによるラベル分類\n",
    "#y_test = 正解のラベル\n",
    "\n",
    "# 経過時間を表示\n",
    "elapsed_time = time.time()-start\n",
    "print(f\"経過時間：{elapsed_time}\")\n",
    "\n",
    "miss_class = (y_test != y_pred).sum()\n",
    "accu_class = (accuracy_score(y_test, y_pred))\n",
    "\n",
    "print('誤分類数： %d個' % miss_class)\n",
    "print('正解率    : %f' % accu_class)\n",
    "\n",
    "#誤検知したやつを探す\n",
    "result = pd.DataFrame(y_pred, columns=['prediction'])\n",
    "result['correct'] = y_test\n",
    "result['accuracy'] = y_test == y_pred\n",
    "\n",
    "f_positives = result[result.iloc[:, 2] == False]\n",
    "f_positives = f_positives[f_positives.iloc[:, 0] == 1]#誤検知(false positives)\n",
    "\n",
    "f_negatives = result[result.iloc[:, 2] == False]\n",
    "f_negatives = f_negatives[f_negatives.iloc[:, 0] == 0]#誤検知(false negatives)\n",
    "\n",
    "per_fn = len(f_negatives) / miss_class\n",
    "print('誤検知率 : %f' % per_fn)"
   ]
  },
  {
   "cell_type": "code",
   "execution_count": 256,
   "metadata": {},
   "outputs": [
    {
     "name": "stdout",
     "output_type": "stream",
     "text": [
      "False Negative:79.80000000000001\n",
      "False Positive  :3.5900000000000003\n",
      "Correct Percentage:16.61\n",
      "Correct:1661\n",
      "Time lapse ave　(ms):6.468676376342773\n"
     ]
    }
   ],
   "source": [
    "\"\"\"KNN_norm\n",
    "フルデータの1割での検知\n",
    "データセットは標準化を行なっている\n",
    "ランダムに予測する\n",
    "\"\"\"\n",
    "\n",
    "i=0\n",
    "fn=0\n",
    "fp=0\n",
    "correct=0\n",
    "while i < 10000:\n",
    "    \n",
    "    #分類開始#\n",
    "    start = time.time() #処理開始時間\n",
    "    random = X_full_test.sample()\n",
    "    y_pred = knnnorm.predict(sc.transform(random))\n",
    "    y_correct = y_full_test[random.index]\n",
    "\n",
    "    if y_pred[0] == 0:\n",
    "            if y_pred[0] == y_correct:\n",
    "                correct+=1\n",
    "            else:\n",
    "                fn+=1\n",
    "    else:\n",
    "        if y_pred[0] == y_correct:\n",
    "            correct+=1\n",
    "        else:\n",
    "            fp+=1\n",
    "    #分類終了#    \n",
    "    elapsed_time = time.time()-start\n",
    "    alltime += elapsed_time\n",
    "    \n",
    "    i+=1\n",
    "\n",
    "\n",
    "KNN_norm_ac = (correct/i) *100\n",
    "KNN_norm_fp = (fp/i) *100\n",
    "KNN_norm_fn = (fn/i) *100 \n",
    "KNN_norm_time = (alltime/i) * 1000\n",
    "\n",
    "print(f\"False Negative:{KNN_norm_fn}\")\n",
    "print(f\"False Positive  :{KNN_norm_fp}\")\n",
    "print(f\"Correct Percentage:{KNN_norm_ac}\")\n",
    "print(f\"Correct:{correct}\")\n",
    "print(f\"Time lapse ave　(ms):{KNN_norm_time}\")"
   ]
  },
  {
   "cell_type": "code",
   "execution_count": null,
   "metadata": {
    "collapsed": true
   },
   "outputs": [],
   "source": []
  },
  {
   "cell_type": "code",
   "execution_count": null,
   "metadata": {
    "collapsed": true
   },
   "outputs": [],
   "source": []
  },
  {
   "cell_type": "code",
   "execution_count": null,
   "metadata": {
    "collapsed": true
   },
   "outputs": [],
   "source": []
  },
  {
   "cell_type": "code",
   "execution_count": null,
   "metadata": {
    "collapsed": true
   },
   "outputs": [],
   "source": []
  },
  {
   "cell_type": "code",
   "execution_count": null,
   "metadata": {
    "collapsed": true
   },
   "outputs": [],
   "source": []
  },
  {
   "cell_type": "code",
   "execution_count": null,
   "metadata": {
    "collapsed": true
   },
   "outputs": [],
   "source": []
  },
  {
   "cell_type": "code",
   "execution_count": null,
   "metadata": {
    "collapsed": true
   },
   "outputs": [],
   "source": []
  },
  {
   "cell_type": "code",
   "execution_count": 266,
   "metadata": {},
   "outputs": [
    {
     "name": "stdout",
     "output_type": "stream",
     "text": [
      "SGD_norm Accuracy (%):19.25\n",
      "SGD_std Accuracy (%):96.2\n",
      "KNN_norm Accuracy (%):16.61\n",
      "KNN_std Accuracys (%):98.57000000000001\n"
     ]
    },
    {
     "data": {
      "image/png": "[encoded data removed]",
      "text/plain": [
       "<matplotlib.figure.Figure at 0x7ffa1d312208>"
      ]
     },
     "metadata": {},
     "output_type": "display_data"
    }
   ],
   "source": [
    "\"\"\"\n",
    "Accuracy (%)\n",
    "i = 10000\n",
    "\"\"\"\n",
    "w = 0.4\n",
    "\n",
    "Y1 = np.array([SGD_norm_ac, KNN_norm_ac])\n",
    "Y2 = np.array([SGD_std_ac, KNN_std_ac])\n",
    "\n",
    "X_plt = np.arange(len(Y1))\n",
    "\n",
    "\n",
    "plt.xticks(X_plt + w/2,  [\"SGD\",  \"KNN\"])\n",
    "\n",
    "plt.bar(X_plt, Y1, width=w, label='normalized', align=\"center\")\n",
    "plt.bar(X_plt + w, Y2, color='g', width=w, label='standarized', align=\"center\")\n",
    "plt.legend(loc='upper left')\n",
    "\n",
    "plt.ylabel(\"Accuracy (%)\")\n",
    "plt.savefig('/home/AIIDS/pics/Accuracy(%).png', dpi=300)\n",
    "\n",
    "\n",
    "print(f\"SGD_norm Accuracy (%):{SGD_norm_ac}\")\n",
    "print(f\"SGD_std Accuracy (%):{SGD_std_ac}\")\n",
    "\n",
    "print(f\"KNN_norm Accuracy (%):{KNN_norm_ac}\")\n",
    "print(f\"KNN_std Accuracys (%):{KNN_std_ac}\")"
   ]
  },
  {
   "cell_type": "code",
   "execution_count": 267,
   "metadata": {},
   "outputs": [
    {
     "name": "stdout",
     "output_type": "stream",
     "text": [
      "SGD_norm False Negatives (%):80.75\n",
      "SGD_std False  Negatives (%):0.77\n",
      "KNN_norm False  Negatives (%):79.80000000000001\n",
      "KNN_std False  Negatives (%):0.5\n"
     ]
    },
    {
     "data": {
      "image/png": "[encoded data removed]",
      "text/plain": [
       "<matplotlib.figure.Figure at 0x7ffa1a722c50>"
      ]
     },
     "metadata": {},
     "output_type": "display_data"
    }
   ],
   "source": [
    "\"\"\"\n",
    "False Negatives(%)\n",
    "i = 10000\n",
    "\"\"\"\n",
    "w = 0.4\n",
    "\n",
    "Y1 = np.array([SGD_norm_fn, KNN_norm_fn])\n",
    "Y2 = np.array([SGD_std_fn, KNN_std_fn])\n",
    "\n",
    "X_plt = np.arange(len(Y1))\n",
    "\n",
    "\n",
    "plt.xticks(X_plt + w/2,  [\"SGD\",  \"KNN\"])\n",
    "\n",
    "plt.bar(X_plt, Y1, width=w, label='normalized', align=\"center\")\n",
    "plt.bar(X_plt + w, Y2, color='g', width=w, label='standarized', align=\"center\")\n",
    "plt.legend(loc=\"best\")\n",
    "#plt.grid(True)\n",
    "plt.ylabel(\"False Negatives(%)\")\n",
    "\n",
    "plt.savefig('/home/AIIDS/pics/False Negatives(%).png', dpi=300)\n",
    "\n",
    "print(f\"SGD_norm False Negatives (%):{SGD_norm_fn}\")\n",
    "print(f\"SGD_std False  Negatives (%):{SGD_std_fn}\")\n",
    "\n",
    "print(f\"KNN_norm False  Negatives (%):{KNN_norm_fn}\")\n",
    "print(f\"KNN_std False  Negatives (%):{KNN_std_fn}\")"
   ]
  },
  {
   "cell_type": "code",
   "execution_count": 268,
   "metadata": {},
   "outputs": [
    {
     "name": "stdout",
     "output_type": "stream",
     "text": [
      "SGD_norm False Positives (%):0.0\n",
      "SGD_std False Positives (%):3.0300000000000002\n",
      "KNN_norm False Positives (%):3.5900000000000003\n",
      "KNN_std False Positives (%):0.9299999999999999\n"
     ]
    },
    {
     "data": {
      "image/png": "[encoded data removed]",
      "text/plain": [
       "<matplotlib.figure.Figure at 0x7ffa10798e80>"
      ]
     },
     "metadata": {},
     "output_type": "display_data"
    }
   ],
   "source": [
    "\"\"\"\n",
    "False Positives(%)\n",
    "i = 10000\n",
    "\"\"\"\n",
    "\n",
    "w = 0.4\n",
    "\n",
    "Y1 = np.array([SGD_norm_fp, KNN_norm_fp])\n",
    "Y2 = np.array([SGD_std_fp, KNN_std_fp])\n",
    "\n",
    "X_plt = np.arange(len(Y1))\n",
    "\n",
    "\n",
    "plt.xticks(X_plt + w/2,  [\"SGD\",  \"KNN\"])\n",
    "\n",
    "plt.bar(X_plt, Y1, width=w, label='normalized', align=\"center\")\n",
    "plt.bar(X_plt + w, Y2, color='g', width=w, label='standarized', align=\"center\")\n",
    "plt.legend(loc=\"best\")\n",
    "#plt.grid(True)\n",
    "plt.ylabel(\"False Positives(%)\")\n",
    "plt.savefig('/home/AIIDS/pics/False Positives(%).png', dpi=300)\n",
    "\n",
    "\n",
    "print(f\"SGD_norm False Positives (%):{SGD_norm_fp}\")\n",
    "print(f\"SGD_std False Positives (%):{SGD_std_fp}\")\n",
    "\n",
    "print(f\"KNN_norm False Positives (%):{KNN_norm_fp}\")\n",
    "print(f\"KNN_std False Positives (%):{KNN_std_fp}\")"
   ]
  },
  {
   "cell_type": "code",
   "execution_count": 269,
   "metadata": {},
   "outputs": [
    {
     "name": "stdout",
     "output_type": "stream",
     "text": [
      "SGD_norm Elapsed Times (ms):2.8944828510284424\n",
      "SGD_std Elapsed Times (ms):1.370295262336731\n",
      "KNN_norm Elapsed Times (ms):6.468676376342773\n",
      "KNN_std Elapsed Times (ms):4.702603030204774\n"
     ]
    },
    {
     "data": {
      "image/png": "[encoded data removed]",
      "text/plain": [
       "<matplotlib.figure.Figure at 0x7ffa10831940>"
      ]
     },
     "metadata": {},
     "output_type": "display_data"
    }
   ],
   "source": [
    "\"\"\"\n",
    "経過時間\n",
    "i = 10000\n",
    "\"\"\"\n",
    "\n",
    "w = 0.4\n",
    "\n",
    "Y1 = np.array([SGD_norm_time, KNN_norm_time])\n",
    "Y2 = np.array([SGD_std_time, KNN_std_time])\n",
    "\n",
    "X_plt = np.arange(len(Y1))\n",
    "\n",
    "\n",
    "plt.xticks(X_plt + w/2,  [\"SGD\",  \"KNN\"])\n",
    "\n",
    "plt.bar(X_plt, Y1, width=w, label='normalized', align=\"center\")\n",
    "plt.bar(X_plt + w, Y2, color='g', width=w, label='standarized', align=\"center\")\n",
    "plt.legend(loc=\"best\")\n",
    "#plt.grid(True)\n",
    "plt.ylabel(\"Elapsed Times (ms)\")\n",
    "plt.savefig('/home/AIIDS/pics/Elapsed Times (ms).png', dpi=300)\n",
    "\n",
    "\n",
    "print(f\"SGD_norm Elapsed Times (ms):{SGD_norm_time}\")\n",
    "print(f\"SGD_std Elapsed Times (ms):{SGD_std_time}\")\n",
    "\n",
    "print(f\"KNN_norm Elapsed Times (ms):{KNN_norm_time}\")\n",
    "print(f\"KNN_std Elapsed Times (ms):{KNN_std_time}\")"
   ]
  },
  {
   "cell_type": "code",
   "execution_count": 270,
   "metadata": {},
   "outputs": [
    {
     "name": "stdout",
     "output_type": "stream",
     "text": [
      "SGD_std False Negatives (%):0.77\n",
      "KNN_std False Negatives (%):0.5\n"
     ]
    },
    {
     "data": {
      "image/png": "[encoded data removed]",
      "text/plain": [
       "<matplotlib.figure.Figure at 0x7ffa1d7d4dd8>"
      ]
     },
     "metadata": {},
     "output_type": "display_data"
    }
   ],
   "source": [
    "\"\"\"\n",
    "Falsenegatives only std\n",
    "\"\"\"\n",
    "\n",
    "label_det = [ \"SGD_std\", \"KNN_std\"]\n",
    "\n",
    "height_det = np.array([SGD_std_fn, KNN_std_fn])\n",
    "X_plt = np.arange(len(height_det))\n",
    "\n",
    "plt.bar(X_plt, height_det, tick_label=label_det, color='g')\n",
    "\n",
    "plt.ylabel(\"False Negatives(%)\")\n",
    "\n",
    "plt.savefig('/home/AIIDS/pics/False Negatives(%) std.png', dpi=300)\n",
    "\n",
    "print(f\"SGD_std False Negatives (%):{SGD_std_fn}\")\n",
    "print(f\"KNN_std False Negatives (%):{KNN_std_fn}\")"
   ]
  },
  {
   "cell_type": "code",
   "execution_count": null,
   "metadata": {},
   "outputs": [],
   "source": []
  },
  {
   "cell_type": "code",
   "execution_count": null,
   "metadata": {},
   "outputs": [],
   "source": []
  },
  {
   "cell_type": "code",
   "execution_count": 271,
   "metadata": {},
   "outputs": [
    {
     "name": "stdout",
     "output_type": "stream",
     "text": [
      "SGD_std Accuracy (%):96.2\n",
      "KNN_std Accuracy (%):98.57000000000001\n"
     ]
    },
    {
     "data": {
      "image/png": "[encoded data removed]",
      "text/plain": [
       "<matplotlib.figure.Figure at 0x7ffa1d565dd8>"
      ]
     },
     "metadata": {},
     "output_type": "display_data"
    }
   ],
   "source": [
    "\"\"\"\n",
    "Accuracy only std\n",
    "\"\"\"\n",
    "label_det = [\"SGD_std\", \"KNN_std\"]\n",
    "left_det = np.array([1, 2])\n",
    "height_det = np.array([ SGD_std_ac,  KNN_std_ac])\n",
    "plt.bar(left_det, height_det, tick_label=label_det, color='g')\n",
    "\n",
    "plt.ylabel(\"Accuracy (%)\")\n",
    "plt.grid(True)\n",
    "\n",
    "plt.savefig('/home/AIIDS/pics/Accuracy(%) std.png', dpi=300)\n",
    "\n",
    "print(f\"SGD_std Accuracy (%):{SGD_std_ac}\")\n",
    "print(f\"KNN_std Accuracy (%):{KNN_std_ac}\")"
   ]
  },
  {
   "cell_type": "code",
   "execution_count": null,
   "metadata": {
    "collapsed": true
   },
   "outputs": [],
   "source": []
  },
  {
   "cell_type": "code",
   "execution_count": null,
   "metadata": {
    "collapsed": true
   },
   "outputs": [],
   "source": []
  },
  {
   "cell_type": "code",
   "execution_count": null,
   "metadata": {
    "collapsed": true
   },
   "outputs": [],
   "source": []
  },
  {
   "cell_type": "code",
   "execution_count": null,
   "metadata": {
    "collapsed": true
   },
   "outputs": [],
   "source": []
  },
  {
   "cell_type": "code",
   "execution_count": null,
   "metadata": {
    "collapsed": true
   },
   "outputs": [],
   "source": []
  },
  {
   "cell_type": "code",
   "execution_count": null,
   "metadata": {},
   "outputs": [],
   "source": []
  },
  {
   "cell_type": "code",
   "execution_count": 263,
   "metadata": {},
   "outputs": [
    {
     "name": "stdout",
     "output_type": "stream",
     "text": [
      "経過時間：0.013225317001342773\n",
      "Prediction is attack\n",
      "correct\n"
     ]
    }
   ],
   "source": [
    "#ランダムに1行,　予測する\n",
    "\n",
    "start = time.time() #処理開始時間\n",
    "random = X_test.sample()\n",
    "y_pred = knnstd.predict(sc.transform(random))\n",
    "# 経過時間を表示\n",
    "elapsed_time = time.time()-start\n",
    "print(f\"経過時間：{elapsed_time}\")\n",
    "\n",
    "print ('Prediction is ' ,end='')\n",
    "if y_pred[0] == 0:\n",
    "    print('normal')\n",
    "else:\n",
    "    print('attack')\n",
    "    \n",
    "if y_pred[0] == y_test[random.index]:\n",
    "    print('correct')\n",
    "else:\n",
    "    print('wrong')"
   ]
  },
  {
   "cell_type": "code",
   "execution_count": null,
   "metadata": {},
   "outputs": [],
   "source": []
  },
  {
   "cell_type": "code",
   "execution_count": null,
   "metadata": {
    "collapsed": true
   },
   "outputs": [],
   "source": []
  },
  {
   "cell_type": "code",
   "execution_count": null,
   "metadata": {
    "collapsed": true
   },
   "outputs": [],
   "source": []
  },
  {
   "cell_type": "code",
   "execution_count": null,
   "metadata": {
    "collapsed": true
   },
   "outputs": [],
   "source": []
  },
  {
   "cell_type": "code",
   "execution_count": null,
   "metadata": {
    "collapsed": true
   },
   "outputs": [],
   "source": []
  },
  {
   "cell_type": "code",
   "execution_count": null,
   "metadata": {},
   "outputs": [],
   "source": []
  },
  {
   "cell_type": "code",
   "execution_count": null,
   "metadata": {},
   "outputs": [],
   "source": []
  },
  {
   "cell_type": "code",
   "execution_count": null,
   "metadata": {
    "collapsed": true
   },
   "outputs": [],
   "source": []
  },
  {
   "cell_type": "code",
   "execution_count": null,
   "metadata": {
    "collapsed": true
   },
   "outputs": [],
   "source": []
  },
  {
   "cell_type": "code",
   "execution_count": null,
   "metadata": {},
   "outputs": [],
   "source": []
  },
  {
   "cell_type": "code",
   "execution_count": null,
   "metadata": {},
   "outputs": [],
   "source": []
  },
  {
   "cell_type": "code",
   "execution_count": null,
   "metadata": {
    "collapsed": true
   },
   "outputs": [],
   "source": []
  },
  {
   "cell_type": "code",
   "execution_count": null,
   "metadata": {
    "collapsed": true
   },
   "outputs": [],
   "source": []
  },
  {
   "cell_type": "code",
   "execution_count": null,
   "metadata": {
    "collapsed": true
   },
   "outputs": [],
   "source": []
  }
 ],
 "metadata": {
  "kernelspec": {
   "display_name": "Python 3",
   "language": "python",
   "name": "python3"
  },
  "language_info": {
   "codemirror_mode": {
    "name": "ipython",
    "version": 3
   },
   "file_extension": ".py",
   "mimetype": "text/x-python",
   "name": "python",
   "nbconvert_exporter": "python",
   "pygments_lexer": "ipython3",
   "version": "3.6.1"
  }
 },
 "nbformat": 4,
 "nbformat_minor": 2
}
